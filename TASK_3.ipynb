{
  "nbformat": 4,
  "nbformat_minor": 0,
  "metadata": {
    "colab": {
      "name": "TASK 3.ipynb",
      "provenance": [],
      "include_colab_link": true
    },
    "kernelspec": {
      "name": "python3",
      "display_name": "Python 3"
    },
    "language_info": {
      "name": "python"
    }
  },
  "cells": [
    {
      "cell_type": "markdown",
      "metadata": {
        "id": "view-in-github",
        "colab_type": "text"
      },
      "source": [
        "<a href=\"https://colab.research.google.com/github/Amrithraj7/LEARN.-PI/blob/main/TASK_3.ipynb\" target=\"_parent\"><img src=\"https://colab.research.google.com/assets/colab-badge.svg\" alt=\"Open In Colab\"/></a>"
      ]
    },
    {
      "cell_type": "markdown",
      "metadata": {
        "id": "z20IIB0eUQMN"
      },
      "source": [
        "1 - Write a program which takes a number as input from the user and check whether the number is odd or even.If odd print the number is odd if not print it is even."
      ]
    },
    {
      "cell_type": "code",
      "metadata": {
        "id": "dVgGJ-wTVRit",
        "outputId": "1be7b327-98f7-4b3d-c9ba-c0e432e957ff",
        "colab": {
          "base_uri": "https://localhost:8080/"
        }
      },
      "source": [
        "num=int(input('enter the number'))\n",
        "if (num%2)==0:\n",
        "  print('is even')\n",
        "else:\n",
        "  print('is odd')"
      ],
      "execution_count": 39,
      "outputs": [
        {
          "output_type": "stream",
          "text": [
            "enter the number4\n",
            "is even\n"
          ],
          "name": "stdout"
        }
      ]
    },
    {
      "cell_type": "markdown",
      "metadata": {
        "id": "7778XD8PVblj"
      },
      "source": [
        "2 -Write a program to find the largest among three numbers and print the largest number."
      ]
    },
    {
      "cell_type": "code",
      "metadata": {
        "id": "m0tUOkOFWR-d",
        "outputId": "faf024c2-d3b5-4d0e-d90b-8f7314f42129",
        "colab": {
          "base_uri": "https://localhost:8080/"
        }
      },
      "source": [
        "num1=5\n",
        "num2=9\n",
        "num3=12\n",
        "if(num1>=num2 and num1>=num3):\n",
        "  Largest=num1\n",
        "elif(num2>=num1 and num2>=num3):\n",
        "  Largest=num2\n",
        "else:\n",
        "  Largest=num3\n",
        "print('The largest num is:', Largest)"
      ],
      "execution_count": 37,
      "outputs": [
        {
          "output_type": "stream",
          "text": [
            "The largest num is: 12\n"
          ],
          "name": "stdout"
        }
      ]
    },
    {
      "cell_type": "markdown",
      "metadata": {
        "id": "Jg2Ns4OQWaJy"
      },
      "source": [
        "3 -Write a function to prompt for a score between 0.0 and 1.0.\n",
        "\n",
        "    If the score is out of range, print an error.\n",
        "    If the score is between 0.0 and 1.0, print a grade using the following table:\n",
        "    Score Grade\n",
        "             Score\tGrade\n",
        "            >= 0.9\tA\n",
        "            >= 0.8\tB\n",
        "            >= 0.7\tC\n",
        "            >= 0.6\tD\n",
        "             < 0.6\tF\n",
        "If the user enters a value out of range, print a suitable error message and exit. For the test, enter a score of 0.85."
      ]
    },
    {
      "cell_type": "code",
      "metadata": {
        "id": "6DLbGe6XXZPx",
        "outputId": "468429df-1039-4cdc-a82c-c7744e88ec13",
        "colab": {
          "base_uri": "https://localhost:8080/"
        }
      },
      "source": [
        "Score = float(input('Enter your grade from 0.0 to 1.0:'))\n",
        "print(\"Received input is: \", Score)\n",
        "if Score >= 0.9:\n",
        "    print(\"Grade A\")\n",
        "elif Score >= 0.8:\n",
        "    print(\"Grade B\")\n",
        "elif Score >= 0.7:\n",
        "    print(\"Grade C\")\n",
        "elif Score >= 0.6:\n",
        "    print(\"Grade D\")\n",
        "elif Score < 0.6:\n",
        "    print(\"Grade F\")\n",
        "else:\n",
        "    print(\"error detected\")"
      ],
      "execution_count": 36,
      "outputs": [
        {
          "output_type": "stream",
          "text": [
            "Enter your grade from 0.0 to 1.0:0.85\n",
            "Received input is:  0.85\n",
            "Grade B\n"
          ],
          "name": "stdout"
        }
      ]
    },
    {
      "cell_type": "markdown",
      "metadata": {
        "id": "-o0scDq7WkVT"
      },
      "source": [
        ""
      ]
    }
  ]
}