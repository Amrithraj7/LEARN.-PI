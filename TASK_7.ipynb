{
  "nbformat": 4,
  "nbformat_minor": 0,
  "metadata": {
    "colab": {
      "name": "TASK  7.ipynb",
      "provenance": [],
      "include_colab_link": true
    },
    "kernelspec": {
      "name": "python3",
      "display_name": "Python 3"
    },
    "language_info": {
      "name": "python"
    }
  },
  "cells": [
    {
      "cell_type": "markdown",
      "metadata": {
        "id": "view-in-github",
        "colab_type": "text"
      },
      "source": [
        "<a href=\"https://colab.research.google.com/github/Amrithraj7/LEARN.-PI/blob/main/TASK_7.ipynb\" target=\"_parent\"><img src=\"https://colab.research.google.com/assets/colab-badge.svg\" alt=\"Open In Colab\"/></a>"
      ]
    },
    {
      "cell_type": "markdown",
      "metadata": {
        "id": "b0V3vwzcydKy"
      },
      "source": [
        "1. Write a program to check whether a  string is palindrome or not using functions. \n",
        "\n",
        "   ( A function is to be created to check whether the string is palindrome and it should give the output true or false to the main program)"
      ]
    },
    {
      "cell_type": "code",
      "metadata": {
        "id": "M2Mi7EOdyxiu"
      },
      "source": [
        "#please enter the code below this line.\n"
      ],
      "execution_count": null,
      "outputs": []
    },
    {
      "cell_type": "markdown",
      "metadata": {
        "id": "vSiShTyOzEz-"
      },
      "source": [
        "2.  Write a menu driven program to find largest element in L, smallest element, avg of all values, sum of all values in L. All these operation should be performed in different functions and the result should be returned.\n",
        "\n",
        "\n",
        "      L=[23,24,11,90,1,41,9,99,28,56,72]"
      ]
    },
    {
      "cell_type": "code",
      "metadata": {
        "id": "fRtMIw_CzsmO",
        "outputId": "55099df8-2e50-4492-fb64-101ddbba5b2c",
        "colab": {
          "base_uri": "https://localhost:8080/"
        }
      },
      "source": [
        "def largest(list):\n",
        "    max = list[ 0 ]\n",
        "    for a in list:\n",
        "        if a > max:\n",
        "            max = a\n",
        "    return max\n",
        " \n",
        "print('largest number is:',largest([23,24,11,90,1,41,9,99,28,56,72]))\n",
        "def smallest_num_in_list( list ):\n",
        "    min = list[ 0 ]\n",
        "    for a in list:\n",
        "        if a < min:\n",
        "            min = a\n",
        "    return min\n",
        "print('smallest number is',smallest_num_in_list([23,24,11,90,1,41,9,99,28,56,72]))\n",
        "def sum_list(items):\n",
        "    sum_numbers = 0\n",
        "    for x in items:\n",
        "        sum_numbers += x\n",
        "    return sum_numbers\n",
        "print('sum is',sum_list([23,24,11,90,1,41,9,99,28,56,72]))\n",
        "def average(list):\n",
        "    average=sum(list)/len(list)\n",
        "    return average\n",
        "print('Average is:', average([23,24,11,90,1,41,9,99,28,56,72]))"
      ],
      "execution_count": 116,
      "outputs": [
        {
          "output_type": "stream",
          "text": [
            "largest number is: 99\n",
            "smallest number is 1\n",
            "sum is 454\n",
            "Average is: 41.27272727272727\n"
          ],
          "name": "stdout"
        }
      ]
    }
  ]
}