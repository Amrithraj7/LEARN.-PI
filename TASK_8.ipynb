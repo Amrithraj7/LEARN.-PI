{
  "nbformat": 4,
  "nbformat_minor": 0,
  "metadata": {
    "colab": {
      "name": "TASK 8.ipynb",
      "provenance": [],
      "include_colab_link": true
    },
    "kernelspec": {
      "name": "python3",
      "display_name": "Python 3"
    },
    "language_info": {
      "name": "python"
    }
  },
  "cells": [
    {
      "cell_type": "markdown",
      "metadata": {
        "id": "view-in-github",
        "colab_type": "text"
      },
      "source": [
        "<a href=\"https://colab.research.google.com/github/Amrithraj7/LEARN.-PI/blob/main/TASK_8.ipynb\" target=\"_parent\"><img src=\"https://colab.research.google.com/assets/colab-badge.svg\" alt=\"Open In Colab\"/></a>"
      ]
    },
    {
      "cell_type": "markdown",
      "metadata": {
        "id": "slsGswYbJSo7"
      },
      "source": [
        "1. Generate a 3 x 3 matrix using random module."
      ]
    },
    {
      "cell_type": "code",
      "metadata": {
        "id": "GGRQSYyNJW9t",
        "outputId": "ba915bd8-e5ab-42cd-b803-740c065d30cc",
        "colab": {
          "base_uri": "https://localhost:8080/"
        }
      },
      "source": [
        "import numpy as np\n",
        "random_matrix_array = np.random.rand(3, 4)\n",
        "print(random_matrix_array)"
      ],
      "execution_count": 101,
      "outputs": [
        {
          "output_type": "stream",
          "text": [
            "[[0.39969664 0.9471183  0.02424048 0.9670621 ]\n",
            " [0.17973366 0.65407752 0.06439872 0.53236926]\n",
            " [0.88319363 0.51672587 0.979614   0.07132411]]\n"
          ],
          "name": "stdout"
        }
      ]
    },
    {
      "cell_type": "markdown",
      "metadata": {
        "id": "4OB9KFX6JfYA"
      },
      "source": [
        "2. Generate two 4 x 4 matrix using numpy and \n",
        "\n",
        " a) Reshape it to 2 x 8matrix and vertically stack it.\n",
        "\n",
        " b) Reshape it to 2 x 8 matrix and horizontally stack it."
      ]
    },
    {
      "cell_type": "code",
      "metadata": {
        "id": "VoIqYeNWJ4H_",
        "outputId": "0a0b891e-1e43-4646-feb3-1a717acef349",
        "colab": {
          "base_uri": "https://localhost:8080/"
        }
      },
      "source": [
        "import numpy as np\n",
        "arr1=array([[5,6,7,7],\n",
        "        [3,6,7,9],\n",
        "        [6,7,4,2],\n",
        "        [4,6,7,9]])\n",
        " \n",
        "arr2=array([[5,7,9,0],\n",
        "        [7,9,4,1],\n",
        "        [5,8,9,0],\n",
        "        [6,8,0,0]])\n",
        "arr3=arr1.reshape(2,8)\n",
        "arr4=arr2.reshape(2,8)\n",
        "a=np.hstack((arr3,arr4))\n",
        "b=np.vstack((arr3,arr4))\n",
        "print(a)\n",
        "print(b)"
      ],
      "execution_count": 99,
      "outputs": [
        {
          "output_type": "stream",
          "text": [
            "[[5 6 7 7 3 6 7 9 5 7 9 0 7 9 4 1]\n",
            " [6 7 4 2 4 6 7 9 5 8 9 0 6 8 0 0]]\n",
            "[[5 6 7 7 3 6 7 9]\n",
            " [6 7 4 2 4 6 7 9]\n",
            " [5 7 9 0 7 9 4 1]\n",
            " [5 8 9 0 6 8 0 0]]\n"
          ],
          "name": "stdout"
        }
      ]
    }
  ]
}