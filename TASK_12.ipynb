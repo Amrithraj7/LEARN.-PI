{
  "nbformat": 4,
  "nbformat_minor": 0,
  "metadata": {
    "colab": {
      "name": "TASK 12.ipynb",
      "provenance": [],
      "include_colab_link": true
    },
    "kernelspec": {
      "name": "python3",
      "display_name": "Python 3"
    },
    "language_info": {
      "name": "python"
    }
  },
  "cells": [
    {
      "cell_type": "markdown",
      "metadata": {
        "id": "view-in-github",
        "colab_type": "text"
      },
      "source": [
        "<a href=\"https://colab.research.google.com/github/Amrithraj7/LEARN.-PI/blob/main/TASK_12.ipynb\" target=\"_parent\"><img src=\"https://colab.research.google.com/assets/colab-badge.svg\" alt=\"Open In Colab\"/></a>"
      ]
    },
    {
      "cell_type": "markdown",
      "metadata": {
        "id": "i9LeFsII-SAQ"
      },
      "source": [
        "1. Create an 4x4 array with elements ranging from 0-15. And find the trace of the array."
      ]
    },
    {
      "cell_type": "code",
      "metadata": {
        "id": "eT1ymGjZ-pOZ",
        "outputId": "4076fdd3-fb8c-460c-950d-d5c2d76f9b79",
        "colab": {
          "base_uri": "https://localhost:8080/"
        }
      },
      "source": [
        "import numpy as np\n",
        "a = np. arange(0,16).reshape(4,4)\n",
        "np. trace(a)"
      ],
      "execution_count": 1,
      "outputs": [
        {
          "output_type": "execute_result",
          "data": {
            "text/plain": [
              "30"
            ]
          },
          "metadata": {
            "tags": []
          },
          "execution_count": 1
        }
      ]
    },
    {
      "cell_type": "code",
      "metadata": {
        "id": "IAhA-qIwAoxs",
        "outputId": "4301e65f-6a46-49d7-fe42-56a186a3ad0b",
        "colab": {
          "base_uri": "https://localhost:8080/"
        }
      },
      "source": [
        "import numpy as np\n",
        "a=np. array([[6,1,1],\n",
        "             [4,-2,5],\n",
        "             [2,8,7]])\n",
        "np.linalg. inv(a)"
      ],
      "execution_count": 5,
      "outputs": [
        {
          "output_type": "execute_result",
          "data": {
            "text/plain": [
              "array([[ 0.17647059, -0.00326797, -0.02287582],\n",
              "       [ 0.05882353, -0.13071895,  0.08496732],\n",
              "       [-0.11764706,  0.1503268 ,  0.05228758]])"
            ]
          },
          "metadata": {
            "tags": []
          },
          "execution_count": 5
        }
      ]
    },
    {
      "cell_type": "markdown",
      "metadata": {
        "id": "Hw69FYds-zww"
      },
      "source": [
        "2. Create a matrix with elements [6,1,1],[4,-2,5],[2,8,7].Now find the inverse this matrix."
      ]
    },
    {
      "cell_type": "markdown",
      "metadata": {
        "id": "6B6aJDFKAz0B"
      },
      "source": [
        "3. Create an 3x3 array with elements ranging from 0-8. And find the norm this array."
      ]
    },
    {
      "cell_type": "code",
      "metadata": {
        "id": "49RVb-g3CXSk",
        "outputId": "2e65e215-083e-41f5-ee51-99622d83c33a",
        "colab": {
          "base_uri": "https://localhost:8080/"
        }
      },
      "source": [
        "import numpy as np\n",
        "a=np. arange(0,9).reshape(3,3)\n",
        "np. linalg. norm(a)"
      ],
      "execution_count": 6,
      "outputs": [
        {
          "output_type": "execute_result",
          "data": {
            "text/plain": [
              "14.2828568570857"
            ]
          },
          "metadata": {
            "tags": []
          },
          "execution_count": 6
        }
      ]
    },
    {
      "cell_type": "markdown",
      "metadata": {
        "id": "pGKEu4lxDCJK"
      },
      "source": [
        "4. Create a 4x4 array whose value ranging from 0-15.And find the eigenvalues and eigenvectors of this array."
      ]
    },
    {
      "cell_type": "code",
      "metadata": {
        "id": "dyymkid0DTth",
        "outputId": "645011f7-1ae4-48ed-9bdf-a195a4366283",
        "colab": {
          "base_uri": "https://localhost:8080/"
        }
      },
      "source": [
        "import numpy as np\n",
        "a=np. arange(0,16).reshape(4,4)\n",
        "print('Eigenvalues', np. linalg. eigvals(a))\n",
        "print('Eigenvectors', np. linalg. eig(a))"
      ],
      "execution_count": 9,
      "outputs": [
        {
          "output_type": "stream",
          "text": [
            "Eigenvalues [ 3.24642492e+01 -2.46424920e+00  2.55670932e-15 -1.93389056e-16]\n",
            "Eigenvectors (array([ 3.24642492e+01, -2.46424920e+00,  2.55670932e-15, -1.93389056e-16]), array([[-0.11417645,  0.7327781 , -0.54471271,  0.09683789],\n",
            "       [-0.3300046 ,  0.28974835,  0.76902356,  0.27269982],\n",
            "       [-0.54583275, -0.15328139,  0.09609099, -0.8359133 ],\n",
            "       [-0.76166089, -0.59631113, -0.32040185,  0.46637559]]))\n"
          ],
          "name": "stdout"
        }
      ]
    }
  ]
}