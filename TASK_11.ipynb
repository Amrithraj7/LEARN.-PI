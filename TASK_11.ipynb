{
  "nbformat": 4,
  "nbformat_minor": 0,
  "metadata": {
    "colab": {
      "name": "TASK 11.ipynb",
      "provenance": [],
      "include_colab_link": true
    },
    "kernelspec": {
      "name": "python3",
      "display_name": "Python 3"
    },
    "language_info": {
      "name": "python"
    }
  },
  "cells": [
    {
      "cell_type": "markdown",
      "metadata": {
        "id": "view-in-github",
        "colab_type": "text"
      },
      "source": [
        "<a href=\"https://colab.research.google.com/github/Amrithraj7/LEARN.-PI/blob/main/TASK_11.ipynb\" target=\"_parent\"><img src=\"https://colab.research.google.com/assets/colab-badge.svg\" alt=\"Open In Colab\"/></a>"
      ]
    },
    {
      "cell_type": "markdown",
      "metadata": {
        "id": "Ud2gZIbu6E59"
      },
      "source": [
        "N.B: Please find the answers by applying the functions on the matrices"
      ]
    },
    {
      "cell_type": "markdown",
      "metadata": {
        "id": "_9JX1Vdn4sTN"
      },
      "source": [
        "1. Create 2 3×3 matrix with 0-8 and 10-19 as elements in each and perform the vectorize multiplication operations on the matrices.(Outer product, Dot product, Element wise product)."
      ]
    },
    {
      "cell_type": "code",
      "metadata": {
        "id": "aBzAn6Z75VQ6",
        "outputId": "81eb824a-d57b-4421-8a9e-ca61bb9c182a",
        "colab": {
          "base_uri": "https://localhost:8080/"
        }
      },
      "source": [
        " \n",
        "import numpy as np\n",
        "a = np.arange(0,9).reshape(3,3)\n",
        "b = np.arange(10,19).reshape(3,3)\n",
        "outer=np. outer(a, b)\n",
        "print('Outer product', outer)\n",
        "product = np.dot(a,b)\n",
        "print('Dot product', product)\n",
        "multiply = np. multiply(a, b)\n",
        "print('Element wise product', multiply)"
      ],
      "execution_count": 10,
      "outputs": [
        {
          "output_type": "stream",
          "text": [
            "Outer product [[  0   0   0   0   0   0   0   0   0]\n",
            " [ 10  11  12  13  14  15  16  17  18]\n",
            " [ 20  22  24  26  28  30  32  34  36]\n",
            " [ 30  33  36  39  42  45  48  51  54]\n",
            " [ 40  44  48  52  56  60  64  68  72]\n",
            " [ 50  55  60  65  70  75  80  85  90]\n",
            " [ 60  66  72  78  84  90  96 102 108]\n",
            " [ 70  77  84  91  98 105 112 119 126]\n",
            " [ 80  88  96 104 112 120 128 136 144]]\n",
            "Dot product [[ 45  48  51]\n",
            " [162 174 186]\n",
            " [279 300 321]]\n",
            "Element wise product [[  0  11  24]\n",
            " [ 39  56  75]\n",
            " [ 96 119 144]]\n"
          ],
          "name": "stdout"
        }
      ]
    },
    {
      "cell_type": "markdown",
      "metadata": {
        "id": "gJGtIjx25k92"
      },
      "source": [
        "2. Create a 4×4 matrix with 0-16  as elements in it. Add a scalar 4 to the matrix and also multiply it with [1,2,3,4] 1-D matrix by broadcasting. ( Please note to do both the addition and multiplication by broadcasting.)"
      ]
    },
    {
      "cell_type": "code",
      "metadata": {
        "id": "H7cznh8M56r-",
        "outputId": "0edfabc2-d712-48b2-a9f6-a1ae4348cb0d",
        "colab": {
          "base_uri": "https://localhost:8080/"
        }
      },
      "source": [
        "import numpy as np\n",
        "a=np. arange(0,16).reshape(4,4)\n",
        "print('sum', np.add(a, 4))\n",
        "b=np. array([[1,2,3,4]])\n",
        "print('Multiply:', np.multiply(a, b))"
      ],
      "execution_count": 8,
      "outputs": [
        {
          "output_type": "stream",
          "text": [
            "sum [[ 4  5  6  7]\n",
            " [ 8  9 10 11]\n",
            " [12 13 14 15]\n",
            " [16 17 18 19]]\n",
            "Multiply: [[ 0  2  6 12]\n",
            " [ 4 10 18 28]\n",
            " [ 8 18 30 44]\n",
            " [12 26 42 60]]\n"
          ],
          "name": "stdout"
        }
      ]
    }
  ]
}