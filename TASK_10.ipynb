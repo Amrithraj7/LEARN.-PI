{
  "nbformat": 4,
  "nbformat_minor": 0,
  "metadata": {
    "colab": {
      "name": "TASK 10.ipynb",
      "provenance": [],
      "include_colab_link": true
    },
    "kernelspec": {
      "name": "python3",
      "display_name": "Python 3"
    },
    "language_info": {
      "name": "python"
    }
  },
  "cells": [
    {
      "cell_type": "markdown",
      "metadata": {
        "id": "view-in-github",
        "colab_type": "text"
      },
      "source": [
        "<a href=\"https://colab.research.google.com/github/Amrithraj7/LEARN.-PI/blob/main/TASK_10.ipynb\" target=\"_parent\"><img src=\"https://colab.research.google.com/assets/colab-badge.svg\" alt=\"Open In Colab\"/></a>"
      ]
    },
    {
      "cell_type": "markdown",
      "metadata": {
        "id": "VHKxwUewxOi2"
      },
      "source": [
        "1. Generate two  3 x 3 matrix and find it's dot product and take the transpose of the answer."
      ]
    },
    {
      "cell_type": "code",
      "metadata": {
        "id": "RdyKd1CAxZtR",
        "outputId": "7fb0f325-1a3c-46c8-fb63-f3f3b43115f4",
        "colab": {
          "base_uri": "https://localhost:8080/"
        }
      },
      "source": [
        "import numpy as np\n",
        "vector_a = np.array([[12,7,3],\n",
        "                     [4 ,5,6],\n",
        "                     [7 ,8,9]]) \n",
        "vector_b = np.array([[5,8,1,],\n",
        "                     [6,7,3,],\n",
        "                     [4,5,9]])\n",
        "print('a=',vector_a)\n",
        "print('b=',vector_b)\n",
        "product =np.dot(vector_a, vector_b) \n",
        " \n",
        "print(\"Dot Product  : \\n\", product)"
      ],
      "execution_count": 20,
      "outputs": [
        {
          "output_type": "stream",
          "text": [
            "a= [[12  7  3]\n",
            " [ 4  5  6]\n",
            " [ 7  8  9]]\n",
            "b= [[5 8 1]\n",
            " [6 7 3]\n",
            " [4 5 9]]\n",
            "Dot Product  : \n",
            " [[114 160  60]\n",
            " [ 74  97  73]\n",
            " [119 157 112]]\n"
          ],
          "name": "stdout"
        }
      ]
    },
    {
      "cell_type": "markdown",
      "metadata": {
        "id": "9c9ZwiBxxf4t"
      },
      "source": [
        "2. Create a 3x3 matrix with elements [55,25,15], [30,44,2], [11,45,77] . Now find the determinant of the given matrix."
      ]
    },
    {
      "cell_type": "code",
      "metadata": {
        "id": "Anmr3C9KyNyy",
        "outputId": "a6019404-c7a4-455b-b483-d5200a15ff13",
        "colab": {
          "base_uri": "https://localhost:8080/"
        }
      },
      "source": [
        " \n",
        " \n",
        " \n",
        "import numpy as np \n",
        " \n",
        "n_array = np.array([[55, 25,15], [30, 44,2],[11,45,77]]) \n",
        " \n",
        "print(\"Numpy Matrix is:\") \n",
        " \n",
        "print(n_array) \n",
        " \n",
        "det = np.linalg.det(n_array) \n",
        " \n",
        "print(\"\\nDeterminant of given 3X3 matrix:\") \n",
        " \n",
        "print(int(det))"
      ],
      "execution_count": 19,
      "outputs": [
        {
          "output_type": "stream",
          "text": [
            "Numpy Matrix is:\n",
            "[[55 25 15]\n",
            " [30 44  2]\n",
            " [11 45 77]]\n",
            "\n",
            "Determinant of given 3X3 matrix:\n",
            "137180\n"
          ],
          "name": "stdout"
        }
      ]
    }
  ]
}